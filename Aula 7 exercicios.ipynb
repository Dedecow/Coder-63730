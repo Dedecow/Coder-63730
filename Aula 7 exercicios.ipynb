{
 "cells": [
  {
   "cell_type": "markdown",
   "metadata": {},
   "source": [
    "Mão na massa"
   ]
  },
  {
   "cell_type": "code",
   "execution_count": null,
   "metadata": {},
   "outputs": [],
   "source": [
    "import numpy as np\n",
    "import pandas as pd"
   ]
  },
  {
   "cell_type": "code",
   "execution_count": null,
   "metadata": {},
   "outputs": [],
   "source": [
    "#Exercício 1\n",
    "np.random.seed(2)\n",
    "E1=np.random.randint(0,100,(10))\n",
    "print(E1)\n",
    "print(E1.dtype)"
   ]
  },
  {
   "cell_type": "code",
   "execution_count": null,
   "metadata": {},
   "outputs": [],
   "source": [
    "#Exercício 2\n",
    "np.random.seed(2)\n",
    "E2=np.random.rand(5,5)\n",
    "print(E2)\n",
    "print('Máximo: ',E2.max())\n",
    "print('Mínimo: ',E2.min())\n",
    "print('Média: ',E2.mean())"
   ]
  },
  {
   "cell_type": "code",
   "execution_count": null,
   "metadata": {},
   "outputs": [],
   "source": [
    "int()\n",
    "float()\n",
    "str()\n",
    "list()"
   ]
  },
  {
   "cell_type": "code",
   "execution_count": null,
   "metadata": {},
   "outputs": [],
   "source": [
    "#Exercício 3\n",
    "np.random.seed(2)\n",
    "E3=np.random.rand(10)\n",
    "print(E3)\n",
    "print(E3.dtype)\n",
    "\n",
    "E3_1=(E3*10).astype(int)\n",
    "print(E3_1.dtype)\n",
    "E3_1"
   ]
  },
  {
   "cell_type": "code",
   "execution_count": null,
   "metadata": {},
   "outputs": [],
   "source": [
    "#Exercício 4\n",
    "np.random.seed(2)\n",
    "E4=np.random.randint(0,9,(3,3))\n",
    "print(E4)\n",
    "E4[1,:]=-1\n",
    "print(E4)\n"
   ]
  },
  {
   "cell_type": "code",
   "execution_count": null,
   "metadata": {},
   "outputs": [],
   "source": [
    "#Exercício 5 - forma 1\n",
    "pd.DataFrame([['Banana', 7.90, 12],['Maça', 10.20, 3],['Pera', 11.80, 4]], columns=['fruta', 'preco', 'quantitade'])"
   ]
  },
  {
   "cell_type": "code",
   "execution_count": null,
   "metadata": {},
   "outputs": [],
   "source": [
    "#Exercício 5 - forma 2\n",
    "df=pd.DataFrame()\n",
    "df['fruta'] = ['Banana', 'Maça', 'Pera']\n",
    "df['preco'] = [7.90, 10.20, 11.80]\n",
    "df['quantidade'] = [12, 3, 4]\n",
    "df"
   ]
  }
 ],
 "metadata": {
  "kernelspec": {
   "display_name": "base",
   "language": "python",
   "name": "python3"
  },
  "language_info": {
   "codemirror_mode": {
    "name": "ipython",
    "version": 3
   },
   "file_extension": ".py",
   "mimetype": "text/x-python",
   "name": "python",
   "nbconvert_exporter": "python",
   "pygments_lexer": "ipython3",
   "version": "3.11.7"
  }
 },
 "nbformat": 4,
 "nbformat_minor": 2
}
