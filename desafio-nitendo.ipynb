{
 "cells": [
  {
   "cell_type": "code",
   "execution_count": 56,
   "metadata": {},
   "outputs": [],
   "source": [
    "import pandas as pd"
   ]
  },
  {
   "cell_type": "code",
   "execution_count": 57,
   "metadata": {},
   "outputs": [
    {
     "data": {
      "text/html": [
       "<div>\n",
       "<style scoped>\n",
       "    .dataframe tbody tr th:only-of-type {\n",
       "        vertical-align: middle;\n",
       "    }\n",
       "\n",
       "    .dataframe tbody tr th {\n",
       "        vertical-align: top;\n",
       "    }\n",
       "\n",
       "    .dataframe thead th {\n",
       "        text-align: right;\n",
       "    }\n",
       "</style>\n",
       "<table border=\"1\" class=\"dataframe\">\n",
       "  <thead>\n",
       "    <tr style=\"text-align: right;\">\n",
       "      <th></th>\n",
       "      <th>Console Name</th>\n",
       "      <th>Type</th>\n",
       "      <th>Company</th>\n",
       "      <th>Released Year</th>\n",
       "      <th>Discontinuation Year</th>\n",
       "      <th>Units sold (million)</th>\n",
       "      <th>Remarks</th>\n",
       "    </tr>\n",
       "  </thead>\n",
       "  <tbody>\n",
       "    <tr>\n",
       "      <th>0</th>\n",
       "      <td>PlayStation 2</td>\n",
       "      <td>Home</td>\n",
       "      <td>Sony</td>\n",
       "      <td>2000</td>\n",
       "      <td>2013</td>\n",
       "      <td>155.00</td>\n",
       "      <td>Final sales are greater than 155 million</td>\n",
       "    </tr>\n",
       "    <tr>\n",
       "      <th>1</th>\n",
       "      <td>Nintendo DS</td>\n",
       "      <td>Handheld</td>\n",
       "      <td>Nintendo</td>\n",
       "      <td>2004</td>\n",
       "      <td>2013</td>\n",
       "      <td>154.02</td>\n",
       "      <td>NaN</td>\n",
       "    </tr>\n",
       "    <tr>\n",
       "      <th>2</th>\n",
       "      <td>Nintendo Switch</td>\n",
       "      <td>Hybrid</td>\n",
       "      <td>Nintendo</td>\n",
       "      <td>2017</td>\n",
       "      <td>0</td>\n",
       "      <td>122.55</td>\n",
       "      <td>NaN</td>\n",
       "    </tr>\n",
       "    <tr>\n",
       "      <th>3</th>\n",
       "      <td>Game Boy</td>\n",
       "      <td>Handheld</td>\n",
       "      <td>Nintendo</td>\n",
       "      <td>1989</td>\n",
       "      <td>2003</td>\n",
       "      <td>64.42</td>\n",
       "      <td>The Game Boy (1989) and the Game Boy Color (19...</td>\n",
       "    </tr>\n",
       "    <tr>\n",
       "      <th>4</th>\n",
       "      <td>Game Boy Color</td>\n",
       "      <td>Handheld</td>\n",
       "      <td>Nintendo</td>\n",
       "      <td>1998</td>\n",
       "      <td>2003</td>\n",
       "      <td>44.06</td>\n",
       "      <td>NaN</td>\n",
       "    </tr>\n",
       "  </tbody>\n",
       "</table>\n",
       "</div>"
      ],
      "text/plain": [
       "      Console Name      Type   Company  Released Year  Discontinuation Year  \\\n",
       "0    PlayStation 2      Home      Sony           2000                  2013   \n",
       "1      Nintendo DS  Handheld  Nintendo           2004                  2013   \n",
       "2  Nintendo Switch    Hybrid  Nintendo           2017                     0   \n",
       "3         Game Boy  Handheld  Nintendo           1989                  2003   \n",
       "4   Game Boy Color  Handheld  Nintendo           1998                  2003   \n",
       "\n",
       "   Units sold (million)                                            Remarks  \n",
       "0                155.00           Final sales are greater than 155 million  \n",
       "1                154.02                                                NaN  \n",
       "2                122.55                                                NaN  \n",
       "3                 64.42  The Game Boy (1989) and the Game Boy Color (19...  \n",
       "4                 44.06                                                NaN  "
      ]
     },
     "execution_count": 57,
     "metadata": {},
     "output_type": "execute_result"
    }
   ],
   "source": [
    "df = pd.read_excel(\"best-selling game consoles.xlsx\", sheet_name=\"consoles\")\n",
    "df.head()"
   ]
  },
  {
   "cell_type": "code",
   "execution_count": 58,
   "metadata": {},
   "outputs": [],
   "source": [
    "df['Console Name'] = df['Console Name'].replace(r'NES', 'Nitendinho')\n"
   ]
  },
  {
   "cell_type": "code",
   "execution_count": 59,
   "metadata": {},
   "outputs": [
    {
     "name": "stdout",
     "output_type": "stream",
     "text": [
      "      Console Name      Type   Company  Released Year  Discontinuation Year  \\\n",
      "0    PlayStation 2      Home      Sony           2000                  2013   \n",
      "1      Nintendo DS  Handheld  Nintendo           2004                  2013   \n",
      "2  Nintendo Switch    Hybrid  Nintendo           2017                     0   \n",
      "3         Game Boy  Handheld  Nintendo           1989                  2003   \n",
      "4   Game Boy Color  Handheld  Nintendo           1998                  2003   \n",
      "\n",
      "   Units sold (million)                                            Remarks  \n",
      "0                155.00           Final sales are greater than 155 million  \n",
      "1                154.02                                                NaN  \n",
      "2                122.55                                                NaN  \n",
      "3                 64.42  The Game Boy (1989) and the Game Boy Color (19...  \n",
      "4                 44.06                                                NaN  \n"
     ]
    }
   ],
   "source": [
    "print(df.head())\n"
   ]
  },
  {
   "cell_type": "code",
   "execution_count": 60,
   "metadata": {},
   "outputs": [],
   "source": [
    "def verificar_maiusculo(nome):\n",
    "    \n",
    "    if isinstance(nome, str):\n",
    "        return nome.isupper()\n",
    "    return False\n"
   ]
  },
  {
   "cell_type": "code",
   "execution_count": 61,
   "metadata": {},
   "outputs": [],
   "source": [
    "def converter_para_maiusculo(nome):\n",
    "    \n",
    "    if isinstance(nome, str) and not nome.isupper():\n",
    "        return nome.upper()\n",
    "    return nome\n"
   ]
  },
  {
   "cell_type": "code",
   "execution_count": 62,
   "metadata": {},
   "outputs": [
    {
     "name": "stdout",
     "output_type": "stream",
     "text": [
      "      Console Name      Type   Company  Released Year  Discontinuation Year  \\\n",
      "0    PLAYSTATION 2      HOME      SONY           2000                  2013   \n",
      "1      NINTENDO DS  HANDHELD  NINTENDO           2004                  2013   \n",
      "2  NINTENDO SWITCH    HYBRID  NINTENDO           2017                     0   \n",
      "3         GAME BOY  HANDHELD  NINTENDO           1989                  2003   \n",
      "4   GAME BOY COLOR  HANDHELD  NINTENDO           1998                  2003   \n",
      "\n",
      "   Units sold (million)                                            Remarks  \n",
      "0                155.00           FINAL SALES ARE GREATER THAN 155 MILLION  \n",
      "1                154.02                                                NaN  \n",
      "2                122.55                                                NaN  \n",
      "3                 64.42  THE GAME BOY (1989) AND THE GAME BOY COLOR (19...  \n",
      "4                 44.06                                                NaN  \n"
     ]
    }
   ],
   "source": [
    "for coluna in df.columns:\n",
    "    df[coluna] = df[coluna].map(lambda valor: converter_para_maiusculo(valor))\n",
    "\n",
    "print(df.head())\n"
   ]
  },
  {
   "cell_type": "code",
   "execution_count": 63,
   "metadata": {},
   "outputs": [
    {
     "name": "stdout",
     "output_type": "stream",
     "text": [
      "                 Console Name       Type    Company  Released Year  \\\n",
      "2             NINTENDO SWITCH     HYBRID   NINTENDO           2017   \n",
      "5               PLAYSTATION 4       HOME       SONY           2013   \n",
      "12               NINTENDO 3DS   HANDHELD   NINTENDO           2011   \n",
      "14                   XBOX ONE       HOME  MICROSOFT           2013   \n",
      "19              PLAYSTATION 5       HOME       SONY           2020   \n",
      "23            XBOX SERIES X/S       HOME  MICROSOFT           2020   \n",
      "24                      WII U       HOME   NINTENDO           2012   \n",
      "25           PLAYSTATION VITA   HANDHELD       SONY           2011   \n",
      "33  SUPER NES CLASSIC EDITION  DEDICATED   NINTENDO           2017   \n",
      "35        NES CLASSIC EDITION  DEDICATED   NINTENDO           2016   \n",
      "\n",
      "    Discontinuation Year  Units sold (million)  \\\n",
      "2                      0                122.55   \n",
      "5                      0                117.20   \n",
      "12                  2020                 75.94   \n",
      "14                  2020                 58.50   \n",
      "19                     0                 30.00   \n",
      "23                     0                 18.50   \n",
      "24                  2017                 13.56   \n",
      "25                  2019                 15.00   \n",
      "33                  2018                  5.28   \n",
      "35                  2018                  3.56   \n",
      "\n",
      "                              Remarks  \n",
      "2                                 NaN  \n",
      "5                                 NaN  \n",
      "12                                NaN  \n",
      "14  ESTIMATED BETWEEN 51-58.5 MILLION  \n",
      "19                                NaN  \n",
      "23  APPROXIMATELY AROUND 18.5 MILLION  \n",
      "24                                NaN  \n",
      "25    ESTIMATED BETWEEN 10-15 MILLION  \n",
      "33                                NaN  \n",
      "35                                NaN  \n"
     ]
    }
   ],
   "source": [
    "def filtrar_por_ano(df, ano_limite=2010):\n",
    "    df_filtrado = df[df['Released Year'] > ano_limite]\n",
    "    return df_filtrado\n",
    "\n",
    "df_filtrado = filtrar_por_ano(df)\n",
    "\n",
    "print(df_filtrado)"
   ]
  },
  {
   "cell_type": "code",
   "execution_count": 64,
   "metadata": {},
   "outputs": [
    {
     "name": "stdout",
     "output_type": "stream",
     "text": [
      "Informações gerais do DataFrame:\n",
      "<class 'pandas.core.frame.DataFrame'>\n",
      "RangeIndex: 51 entries, 0 to 50\n",
      "Data columns (total 7 columns):\n",
      " #   Column                Non-Null Count  Dtype  \n",
      "---  ------                --------------  -----  \n",
      " 0   Console Name          51 non-null     object \n",
      " 1   Type                  51 non-null     object \n",
      " 2   Company               51 non-null     object \n",
      " 3   Released Year         51 non-null     int64  \n",
      " 4   Discontinuation Year  51 non-null     int64  \n",
      " 5   Units sold (million)  51 non-null     float64\n",
      " 6   Remarks               16 non-null     object \n",
      "dtypes: float64(1), int64(2), object(4)\n",
      "memory usage: 2.9+ KB\n"
     ]
    }
   ],
   "source": [
    "print(\"Informações gerais do DataFrame:\")\n",
    "df.info()"
   ]
  },
  {
   "cell_type": "code",
   "execution_count": 65,
   "metadata": {},
   "outputs": [
    {
     "name": "stdout",
     "output_type": "stream",
     "text": [
      "\n",
      "Resumo estatístico do DataFrame:\n",
      "       Released Year  Discontinuation Year  Units sold (million)\n",
      "count      51.000000             51.000000             51.000000\n",
      "mean     1996.058824           1844.803922             35.549412\n",
      "std        12.378064            543.657319             42.608844\n",
      "min      1976.000000              0.000000              1.000000\n",
      "25%      1987.500000           1992.000000              3.200000\n",
      "50%      1994.000000           1998.000000             13.560000\n",
      "75%      2004.500000           2011.500000             60.205000\n",
      "max      2020.000000           2020.000000            155.000000\n"
     ]
    }
   ],
   "source": [
    "print(\"\\nResumo estatístico do DataFrame:\")\n",
    "print(df.describe())"
   ]
  },
  {
   "cell_type": "code",
   "execution_count": 66,
   "metadata": {},
   "outputs": [
    {
     "name": "stdout",
     "output_type": "stream",
     "text": [
      "Valores ausentes encontrados nas colunas:\n",
      "Remarks    35\n",
      "dtype: int64\n"
     ]
    }
   ],
   "source": [
    "def verificar_missing_values(df):\n",
    "    missing = df.isnull().sum()\n",
    "    if missing.any():\n",
    "        print(\"Valores ausentes encontrados nas colunas:\")\n",
    "        print(missing[missing > 0])\n",
    "    else:\n",
    "        print(\"Não há valores ausentes no DataFrame.\")\n",
    "\n",
    "verificar_missing_values(df)"
   ]
  },
  {
   "cell_type": "code",
   "execution_count": 67,
   "metadata": {},
   "outputs": [
    {
     "name": "stdout",
     "output_type": "stream",
     "text": [
      "Valores ausentes foram substituídos por: missing\n",
      "Não há valores ausentes no DataFrame.\n"
     ]
    }
   ],
   "source": [
    "def substituir_missing_values(df, valor='missing'):\n",
    "    df.fillna(valor, inplace=True)\n",
    "    print(\"Valores ausentes foram substituídos por:\", valor)\n",
    "\n",
    "\n",
    "substituir_missing_values(df, 'missing')\n",
    "\n",
    "\n",
    "verificar_missing_values(df)\n"
   ]
  },
  {
   "cell_type": "code",
   "execution_count": 77,
   "metadata": {},
   "outputs": [],
   "source": [
    "def verificar_consoles_descontinuados(df):\n",
    "    \n",
    "    consoles_com_descontinuacao = df[df['Discontinuation Year'].notnull() & (df['Discontinuation Year'] != 0)]\n",
    "    \n",
    "    if not consoles_com_descontinuacao.empty:\n",
    "        for index, row in consoles_com_descontinuacao.iterrows():\n",
    "            console_nome = row['Console Name']\n",
    "            ano_descontinuacao = row['Discontinuation Year']\n",
    "    else:\n",
    "        print(\"Não há consoles com ano de descontinuação na base.\")\n",
    "\n",
    "verificar_consoles_descontinuados(df)\n",
    "\n"
   ]
  },
  {
   "cell_type": "code",
   "execution_count": 69,
   "metadata": {},
   "outputs": [],
   "source": [
    "def verificar_diferenca_ano(df):\n",
    "    consoles_com_descontinuacao = df[df['Discontinuation Year'].notnull() & (df['Discontinuation Year'] != 0)]\n",
    "    consoles_com_dif_ano_inferior_2 = consoles_com_descontinuacao[\n",
    "        (consoles_com_descontinuacao['Discontinuation Year'] - consoles_com_descontinuacao['Released Year']) < 2]\n",
    "    return consoles_com_dif_ano_inferior_2"
   ]
  },
  {
   "cell_type": "code",
   "execution_count": 70,
   "metadata": {},
   "outputs": [
    {
     "name": "stdout",
     "output_type": "stream",
     "text": [
      "                 Console Name       Type           Company  Released Year  \\\n",
      "33  SUPER NES CLASSIC EDITION  DEDICATED          NINTENDO           2017   \n",
      "44           MAGNAVOX ODYSSEY       HOME  MAGNAVOX/PHILIPS           1978   \n",
      "\n",
      "    Discontinuation Year  Units sold (million)  Remarks  \n",
      "33                  2018                  5.28  missing  \n",
      "44                  1975                  2.00  missing  \n"
     ]
    }
   ],
   "source": [
    "resultado = verificar_diferenca_ano(df)\n",
    "print(resultado)"
   ]
  }
 ],
 "metadata": {
  "kernelspec": {
   "display_name": "base",
   "language": "python",
   "name": "python3"
  },
  "language_info": {
   "codemirror_mode": {
    "name": "ipython",
    "version": 3
   },
   "file_extension": ".py",
   "mimetype": "text/x-python",
   "name": "python",
   "nbconvert_exporter": "python",
   "pygments_lexer": "ipython3",
   "version": "3.12.7"
  }
 },
 "nbformat": 4,
 "nbformat_minor": 2
}
