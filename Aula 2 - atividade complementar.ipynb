{
 "cells": [
  {
   "cell_type": "markdown",
   "metadata": {},
   "source": [
    "Desafio Fora de Sala"
   ]
  },
  {
   "cell_type": "code",
   "execution_count": 1,
   "metadata": {},
   "outputs": [
    {
     "name": "stdout",
     "output_type": "stream",
     "text": [
      "O seu IMC é 55.77\n"
     ]
    }
   ],
   "source": [
    "#Exercício 1\n",
    "peso=float(input('informe o peso em quilogramas (kg): '))\n",
    "altura=float(input('informe a altura em metros (kg): '))\n",
    "print('O seu IMC é {0:.2f}'.format(peso/(altura**2)))"
   ]
  },
  {
   "cell_type": "code",
   "execution_count": 3,
   "metadata": {},
   "outputs": [
    {
     "data": {
      "text/plain": [
       "[5, 4, 3, 2, 1]"
      ]
     },
     "execution_count": 3,
     "metadata": {},
     "output_type": "execute_result"
    }
   ],
   "source": [
    "#Exercício 2\n",
    "lista=[]\n",
    "lista.append(int(input('insira o 1º número inteiro: ')))\n",
    "lista.append(int(input('insira o 2º número inteiro: ')))\n",
    "lista.append(int(input('insira o 3º número inteiro: ')))\n",
    "lista.append(int(input('insira o 4º número inteiro: ')))\n",
    "lista.append(int(input('insira o 5º número inteiro: ')))\n",
    "lista"
   ]
  },
  {
   "cell_type": "code",
   "execution_count": 4,
   "metadata": {},
   "outputs": [
    {
     "data": {
      "text/plain": [
       "['andre', 'alan', 'eber']"
      ]
     },
     "execution_count": 4,
     "metadata": {},
     "output_type": "execute_result"
    }
   ],
   "source": [
    "#Exercício 3\n",
    "nomes=input('Digite os nomes separados por virgula sem espaço: ')\n",
    "nomes.split(',')"
   ]
  }
 ],
 "metadata": {
  "kernelspec": {
   "display_name": "base",
   "language": "python",
   "name": "python3"
  },
  "language_info": {
   "codemirror_mode": {
    "name": "ipython",
    "version": 3
   },
   "file_extension": ".py",
   "mimetype": "text/x-python",
   "name": "python",
   "nbconvert_exporter": "python",
   "pygments_lexer": "ipython3",
   "version": "3.12.7"
  }
 },
 "nbformat": 4,
 "nbformat_minor": 2
}
